{
 "cells": [
  {
   "cell_type": "markdown",
   "id": "6c39eac5-ca5a-4f32-8a6e-d8fe8b52b182",
   "metadata": {},
   "source": [
    "# Strings and files"
   ]
  },
  {
   "cell_type": "code",
   "execution_count": 6,
   "id": "74506cd7-4b2e-41cc-b19a-38412d7ba20b",
   "metadata": {},
   "outputs": [
    {
     "name": "stdout",
     "output_type": "stream",
     "text": [
      "Will you be at the meeting to night? \n",
      " \"Yes\", He replies\n"
     ]
    }
   ],
   "source": [
    "string_1= \"Will you be at the meeting to night?\"\n",
    "string_2= '\"Yes\", He replies'\n",
    "\n",
    "print(string_1,\"\\n\", string_2)"
   ]
  },
  {
   "cell_type": "markdown",
   "id": "08c7701d-06fb-4fed-baa8-7e53ffbf0262",
   "metadata": {},
   "source": [
    "## Indexing"
   ]
  },
  {
   "cell_type": "code",
   "execution_count": 7,
   "id": "fd322164-8e24-4e75-a383-e88fd42770a9",
   "metadata": {},
   "outputs": [
    {
     "data": {
      "text/plain": [
       "'W'"
      ]
     },
     "execution_count": 7,
     "metadata": {},
     "output_type": "execute_result"
    }
   ],
   "source": [
    "string_1[0]"
   ]
  },
  {
   "cell_type": "code",
   "execution_count": 8,
   "id": "67f5cfab-2b4f-4ef1-9dc7-ae36e31f1c21",
   "metadata": {},
   "outputs": [
    {
     "name": "stdout",
     "output_type": "stream",
     "text": [
      " My first character og string_1 is :  Will yo\n"
     ]
    }
   ],
   "source": [
    "print(\" My first character og string_1 is : \", string_1[0:7] )"
   ]
  },
  {
   "cell_type": "code",
   "execution_count": 9,
   "id": "6fad1085-7efe-4ac8-83e6-5bda44e62226",
   "metadata": {},
   "outputs": [
    {
     "name": "stdout",
     "output_type": "stream",
     "text": [
      "Will you be at the meeting to night?\"Yes\", He replies\n"
     ]
    }
   ],
   "source": [
    "print(string_1+ string_2)"
   ]
  },
  {
   "cell_type": "markdown",
   "id": "12903174-7d53-4e6b-94b2-5d4d3886a490",
   "metadata": {},
   "source": [
    "### Slicing"
   ]
  },
  {
   "cell_type": "code",
   "execution_count": 11,
   "id": "83b11e97-a4ee-4546-ae2c-6fd723f2c03c",
   "metadata": {},
   "outputs": [
    {
     "data": {
      "text/plain": [
       "' l '"
      ]
     },
     "execution_count": 11,
     "metadata": {},
     "output_type": "execute_result"
    }
   ],
   "source": [
    "string_3= \" hello how are you sir\"\n",
    "string_3[0:8:3]"
   ]
  },
  {
   "cell_type": "code",
   "execution_count": 96,
   "id": "a92a16d2-ca89-4f1e-8bd2-747963a5a45c",
   "metadata": {},
   "outputs": [
    {
     "data": {
      "text/plain": [
       "18"
      ]
     },
     "execution_count": 96,
     "metadata": {},
     "output_type": "execute_result"
    }
   ],
   "source": [
    "name=\"USENGIMANA Richard\"\n",
    "len(name)"
   ]
  },
  {
   "cell_type": "code",
   "execution_count": 102,
   "id": "52fe46f2-cb5a-4b56-99c2-b438f6cfbe09",
   "metadata": {},
   "outputs": [
    {
     "data": {
      "text/plain": [
       "'My name is USENGIMANA Richard'"
      ]
     },
     "execution_count": 102,
     "metadata": {},
     "output_type": "execute_result"
    }
   ],
   "source": [
    "name.replace(\"U\",\"My name is U\") \n",
    "\n"
   ]
  },
  {
   "cell_type": "code",
   "execution_count": null,
   "id": "c59cbaca-dd76-4dc1-8541-d392a78297a6",
   "metadata": {},
   "outputs": [],
   "source": []
  },
  {
   "cell_type": "markdown",
   "id": "988f067b-88cf-4d2f-a117-f0a6cf822eb2",
   "metadata": {},
   "source": [
    "### Length of string "
   ]
  },
  {
   "cell_type": "code",
   "execution_count": 12,
   "id": "85e99ffb-bb6c-428c-a502-4f69d8252480",
   "metadata": {},
   "outputs": [
    {
     "data": {
      "text/plain": [
       "22"
      ]
     },
     "execution_count": 12,
     "metadata": {},
     "output_type": "execute_result"
    }
   ],
   "source": [
    "len(string_3)"
   ]
  },
  {
   "cell_type": "code",
   "execution_count": 15,
   "id": "3c95a454-41b3-4303-8cff-4bb59c343b2c",
   "metadata": {},
   "outputs": [
    {
     "name": "stdout",
     "output_type": "stream",
     "text": [
      "How was it ?\n"
     ]
    }
   ],
   "source": [
    "my_var_1 = \"How\"\n",
    "my_var_2= \" was it ?\"\n",
    "\n",
    "concat= my_var_1 + my_var_2\n",
    "print(concat)"
   ]
  },
  {
   "cell_type": "code",
   "execution_count": 16,
   "id": "b2a1e53d-67d9-4429-8474-bc47a396b717",
   "metadata": {},
   "outputs": [
    {
     "name": "stdout",
     "output_type": "stream",
     "text": [
      "How was it ?How was it ?How was it ?How was it ?How was it ?How was it ?How was it ?How was it ?\n"
     ]
    }
   ],
   "source": [
    "print(8*concat)"
   ]
  },
  {
   "cell_type": "code",
   "execution_count": 85,
   "id": "4f395d41-7cf8-4bf7-b581-18d5e3458fa1",
   "metadata": {},
   "outputs": [
    {
     "data": {
      "text/plain": [
       "\u001b[1;31mSignature:\u001b[0m \u001b[0mmy_fov\u001b[0m\u001b[1;33m.\u001b[0m\u001b[0mcapitalize\u001b[0m\u001b[1;33m(\u001b[0m\u001b[1;33m)\u001b[0m\u001b[1;33m\u001b[0m\u001b[1;33m\u001b[0m\u001b[0m\n",
       "\u001b[1;31mDocstring:\u001b[0m\n",
       "Return a capitalized version of the string.\n",
       "\n",
       "More specifically, make the first character have upper case and the rest lower\n",
       "case.\n",
       "\u001b[1;31mType:\u001b[0m      builtin_function_or_method"
      ]
     },
     "metadata": {},
     "output_type": "display_data"
    }
   ],
   "source": [
    "my_fov =\"usengimana Richard\"\n",
    "?my_fov.capitalize"
   ]
  },
  {
   "cell_type": "code",
   "execution_count": 86,
   "id": "e127ac7b-370c-4f56-bf10-c18a7d0baf51",
   "metadata": {},
   "outputs": [
    {
     "data": {
      "text/plain": [
       "'Usengimana richard'"
      ]
     },
     "execution_count": 86,
     "metadata": {},
     "output_type": "execute_result"
    }
   ],
   "source": [
    "my_fov.capitalize()"
   ]
  },
  {
   "cell_type": "code",
   "execution_count": 95,
   "id": "9c9cfb81-c462-4593-9baa-fdd0afeb9247",
   "metadata": {},
   "outputs": [
    {
     "name": "stdout",
     "output_type": "stream",
     "text": [
      "3\n",
      "1\n",
      "uConsoleengimana Richard\n",
      "18\n"
     ]
    },
    {
     "data": {
      "text/plain": [
       "\u001b[1;31mDocstring:\u001b[0m\n",
       "S.count(sub[, start[, end]]) -> int\n",
       "\n",
       "Return the number of non-overlapping occurrences of substring sub in\n",
       "string S[start:end].  Optional arguments start and end are\n",
       "interpreted as in slice notation.\n",
       "\u001b[1;31mType:\u001b[0m      builtin_function_or_method"
      ]
     },
     "metadata": {},
     "output_type": "display_data"
    }
   ],
   "source": [
    "?my_fov.count\n",
    "print(my_fov.count(\"a\"))\n",
    "print(my_fov.count(\"d\"))\n",
    "print(my_fov.replace(\"s\",\"Console\"))\n",
    "\n",
    "\n",
    "print(len(my_fov)) ## to check the length of my variable \n",
    "\n"
   ]
  },
  {
   "cell_type": "code",
   "execution_count": 94,
   "id": "bc7e9999-61a3-4fda-8598-09debef43e68",
   "metadata": {},
   "outputs": [
    {
     "name": "stdout",
     "output_type": "stream",
     "text": [
      " Volume in drive C is Windows-SSD\n",
      " Volume Serial Number is 9A86-D00A\n",
      "\n",
      " Directory of C:\\Users\\USER\\Desktop\\python_course\\notebooks_lecture_notes\n",
      "\n",
      "09/25/2025  06:11 PM    <DIR>          .\n",
      "09/23/2025  10:27 AM    <DIR>          ..\n",
      "09/25/2025  03:33 PM    <DIR>          .ipynb_checkpoints\n",
      "09/23/2025  10:29 AM             6,021 command_mode.png\n",
      "09/23/2025  10:28 AM             6,030 edit_mode.png\n",
      "09/23/2025  10:28 AM           194,094 Emily.png\n",
      "09/23/2025  10:28 AM            17,311 menubar_toolbar.png\n",
      "09/25/2025  03:51 PM                91 myfile.txt\n",
      "09/23/2025  04:37 PM            53,839 PyPro-SCiDaS-day_00_introduction_to_jupyter_notebooks.ipynb\n",
      "09/24/2025  08:48 PM            62,249 PyPro-SCiDaS-day_01a_introduction_to_python.ipynb\n",
      "09/25/2025  03:07 PM            34,944 PyPro-SCiDaS-day_03_strings-and-files.ipynb.ipynb\n",
      "09/24/2025  02:05 PM             3,605 richard.usengimana_day02_report.ipynb\n",
      "09/25/2025  06:11 PM            10,954 richard.usengimana_day03.ipynb\n",
      "09/23/2025  07:08 PM    <DIR>          richard_usengimana-daily-reports\n",
      "09/24/2025  11:52 AM            69,133 richard_usengimana-day_01b_variables-and-assignment.ipynb\n",
      "09/22/2025  11:58 AM           229,226 Richard_USENGIMANA_compressed.jpg\n",
      "09/25/2025  12:20 PM                43 testfile.txt\n",
      "09/24/2025  06:25 PM            33,904 Tutorial_1.ipynb\n",
      "              14 File(s)        721,444 bytes\n",
      "               4 Dir(s)  193,726,566,400 bytes free\n"
     ]
    }
   ],
   "source": [
    "!dir"
   ]
  },
  {
   "cell_type": "code",
   "execution_count": 2,
   "id": "dbd22825-bd05-4c6e-9e9b-2570c7467e61",
   "metadata": {},
   "outputs": [],
   "source": [
    "# %load testfile.txt\n",
    "Aims class\n",
    "Rwanda 2025\n",
    "this is really cool\n"
   ]
  },
  {
   "cell_type": "code",
   "execution_count": 19,
   "id": "7f67017f-a600-4c36-8840-01866981136a",
   "metadata": {},
   "outputs": [],
   "source": [
    "my_file= open('testfile.txt', 'r')"
   ]
  },
  {
   "cell_type": "code",
   "execution_count": 20,
   "id": "914f380d-e034-4696-91db-4e8ce284378b",
   "metadata": {},
   "outputs": [
    {
     "data": {
      "text/plain": [
       "['Aims class\\n', 'Rwanda 2025\\n', 'this is really cool\\n']"
      ]
     },
     "execution_count": 20,
     "metadata": {},
     "output_type": "execute_result"
    }
   ],
   "source": [
    "my_file.readlines()"
   ]
  },
  {
   "cell_type": "code",
   "execution_count": 79,
   "id": "adde3179-090f-4b27-8d79-64ae1d54b44e",
   "metadata": {},
   "outputs": [],
   "source": [
    "new_file= open(\"myfile.txt\", 'r') ## new created-file is arleady opened "
   ]
  },
  {
   "cell_type": "code",
   "execution_count": 80,
   "id": "528cf4d9-32b8-4d51-8888-e0845fc06f81",
   "metadata": {},
   "outputs": [
    {
     "data": {
      "text/plain": [
       "['hello my name is richard \\n',\n",
       " '\\n',\n",
       " 'I studying at AIMS africa\\n',\n",
       " '\\n',\n",
       " '\\n',\n",
       " 'my dream is to  be data scientist\\n',\n",
       " '\\n',\n",
       " '\\n']"
      ]
     },
     "execution_count": 80,
     "metadata": {},
     "output_type": "execute_result"
    }
   ],
   "source": [
    "new_file.readlines()"
   ]
  },
  {
   "cell_type": "code",
   "execution_count": null,
   "id": "6579bce0-abe5-4816-9cd7-2d3e564d55ef",
   "metadata": {},
   "outputs": [],
   "source": [
    "\n"
   ]
  },
  {
   "cell_type": "markdown",
   "id": "2fe55a17-9357-421b-a1ee-e8d74a94cff0",
   "metadata": {},
   "source": [
    "## To write new text into our new_file"
   ]
  },
  {
   "cell_type": "code",
   "execution_count": 73,
   "id": "145292ac-6dda-4ee4-b94b-2fad87a55dd2",
   "metadata": {},
   "outputs": [
    {
     "data": {
      "text/plain": [
       "<function TextIOWrapper.close()>"
      ]
     },
     "execution_count": 73,
     "metadata": {},
     "output_type": "execute_result"
    }
   ],
   "source": [
    "new_file= open(\"myfile.txt\", 'a')\n",
    "new_file.write(\"'Our teach is from south-Africa \\n',\")\n",
    "new_file.close\n"
   ]
  },
  {
   "cell_type": "code",
   "execution_count": null,
   "id": "67372afb-2c29-4d8b-b442-9b9445dbaf42",
   "metadata": {},
   "outputs": [],
   "source": []
  },
  {
   "cell_type": "code",
   "execution_count": null,
   "id": "d68c5921-9484-4efd-b1f5-f2e16725e6b1",
   "metadata": {},
   "outputs": [],
   "source": []
  },
  {
   "cell_type": "code",
   "execution_count": null,
   "id": "c6026f4a-4499-483d-8217-d4430794b5f0",
   "metadata": {},
   "outputs": [],
   "source": []
  },
  {
   "cell_type": "code",
   "execution_count": null,
   "id": "090ff9c7-48ad-468e-b350-0c13a384918b",
   "metadata": {},
   "outputs": [],
   "source": []
  }
 ],
 "metadata": {
  "kernelspec": {
   "display_name": "Python 3 (ipykernel)",
   "language": "python",
   "name": "python3"
  },
  "language_info": {
   "codemirror_mode": {
    "name": "ipython",
    "version": 3
   },
   "file_extension": ".py",
   "mimetype": "text/x-python",
   "name": "python",
   "nbconvert_exporter": "python",
   "pygments_lexer": "ipython3",
   "version": "3.12.7"
  }
 },
 "nbformat": 4,
 "nbformat_minor": 5
}
